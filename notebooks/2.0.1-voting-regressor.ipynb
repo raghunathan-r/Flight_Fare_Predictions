{
 "cells": [
  {
   "attachments": {},
   "cell_type": "markdown",
   "metadata": {},
   "source": [
    "# Voting Regression"
   ]
  },
  {
   "cell_type": "code",
   "execution_count": 28,
   "metadata": {},
   "outputs": [],
   "source": [
    "# Importing all the Required Libraries\n",
    "import pandas as pd\n",
    "import numpy as np\n",
    "from sklearn.ensemble import RandomForestRegressor, GradientBoostingRegressor, VotingRegressor\n",
    "from sklearn.linear_model import LinearRegression\n",
    "from sklearn.metrics import mean_absolute_error\n",
    "from sklearn.model_selection import train_test_split\n",
    "import sklearn.metrics as metrics\n",
    "import pickle"
   ]
  },
  {
   "cell_type": "code",
   "execution_count": 29,
   "metadata": {},
   "outputs": [
    {
     "data": {
      "text/html": [
       "<div>\n",
       "<style scoped>\n",
       "    .dataframe tbody tr th:only-of-type {\n",
       "        vertical-align: middle;\n",
       "    }\n",
       "\n",
       "    .dataframe tbody tr th {\n",
       "        vertical-align: top;\n",
       "    }\n",
       "\n",
       "    .dataframe thead th {\n",
       "        text-align: right;\n",
       "    }\n",
       "</style>\n",
       "<table border=\"1\" class=\"dataframe\">\n",
       "  <thead>\n",
       "    <tr style=\"text-align: right;\">\n",
       "      <th></th>\n",
       "      <th>Airline_AirAsia</th>\n",
       "      <th>Airline_AkasaAir</th>\n",
       "      <th>Airline_AllianceAir</th>\n",
       "      <th>Airline_GO FIRST</th>\n",
       "      <th>Airline_Indigo</th>\n",
       "      <th>Airline_SpiceJet</th>\n",
       "      <th>Airline_StarAir</th>\n",
       "      <th>Airline_Vistara</th>\n",
       "      <th>Arrival_encoded</th>\n",
       "      <th>Class</th>\n",
       "      <th>...</th>\n",
       "      <th>Journey_date</th>\n",
       "      <th>Journey_day_encoded</th>\n",
       "      <th>Journey_month</th>\n",
       "      <th>Source_Bangalore</th>\n",
       "      <th>Source_Chennai</th>\n",
       "      <th>Source_Delhi</th>\n",
       "      <th>Source_Hyderabad</th>\n",
       "      <th>Source_Kolkata</th>\n",
       "      <th>Source_Mumbai</th>\n",
       "      <th>Total_stops</th>\n",
       "    </tr>\n",
       "  </thead>\n",
       "  <tbody>\n",
       "    <tr>\n",
       "      <th>0</th>\n",
       "      <td>0</td>\n",
       "      <td>0</td>\n",
       "      <td>0</td>\n",
       "      <td>0</td>\n",
       "      <td>0</td>\n",
       "      <td>1</td>\n",
       "      <td>0</td>\n",
       "      <td>0</td>\n",
       "      <td>2</td>\n",
       "      <td>0.0</td>\n",
       "      <td>...</td>\n",
       "      <td>16</td>\n",
       "      <td>1</td>\n",
       "      <td>1</td>\n",
       "      <td>0</td>\n",
       "      <td>0</td>\n",
       "      <td>1</td>\n",
       "      <td>0</td>\n",
       "      <td>0</td>\n",
       "      <td>0</td>\n",
       "      <td>0</td>\n",
       "    </tr>\n",
       "    <tr>\n",
       "      <th>1</th>\n",
       "      <td>0</td>\n",
       "      <td>0</td>\n",
       "      <td>0</td>\n",
       "      <td>0</td>\n",
       "      <td>1</td>\n",
       "      <td>0</td>\n",
       "      <td>0</td>\n",
       "      <td>0</td>\n",
       "      <td>4</td>\n",
       "      <td>0.0</td>\n",
       "      <td>...</td>\n",
       "      <td>16</td>\n",
       "      <td>1</td>\n",
       "      <td>1</td>\n",
       "      <td>0</td>\n",
       "      <td>0</td>\n",
       "      <td>1</td>\n",
       "      <td>0</td>\n",
       "      <td>0</td>\n",
       "      <td>0</td>\n",
       "      <td>0</td>\n",
       "    </tr>\n",
       "    <tr>\n",
       "      <th>2</th>\n",
       "      <td>0</td>\n",
       "      <td>0</td>\n",
       "      <td>0</td>\n",
       "      <td>1</td>\n",
       "      <td>0</td>\n",
       "      <td>0</td>\n",
       "      <td>0</td>\n",
       "      <td>0</td>\n",
       "      <td>4</td>\n",
       "      <td>0.0</td>\n",
       "      <td>...</td>\n",
       "      <td>16</td>\n",
       "      <td>1</td>\n",
       "      <td>1</td>\n",
       "      <td>0</td>\n",
       "      <td>0</td>\n",
       "      <td>1</td>\n",
       "      <td>0</td>\n",
       "      <td>0</td>\n",
       "      <td>0</td>\n",
       "      <td>0</td>\n",
       "    </tr>\n",
       "    <tr>\n",
       "      <th>3</th>\n",
       "      <td>0</td>\n",
       "      <td>0</td>\n",
       "      <td>0</td>\n",
       "      <td>0</td>\n",
       "      <td>0</td>\n",
       "      <td>1</td>\n",
       "      <td>0</td>\n",
       "      <td>0</td>\n",
       "      <td>2</td>\n",
       "      <td>0.0</td>\n",
       "      <td>...</td>\n",
       "      <td>16</td>\n",
       "      <td>1</td>\n",
       "      <td>1</td>\n",
       "      <td>0</td>\n",
       "      <td>0</td>\n",
       "      <td>1</td>\n",
       "      <td>0</td>\n",
       "      <td>0</td>\n",
       "      <td>0</td>\n",
       "      <td>0</td>\n",
       "    </tr>\n",
       "    <tr>\n",
       "      <th>4</th>\n",
       "      <td>0</td>\n",
       "      <td>0</td>\n",
       "      <td>0</td>\n",
       "      <td>0</td>\n",
       "      <td>0</td>\n",
       "      <td>0</td>\n",
       "      <td>0</td>\n",
       "      <td>0</td>\n",
       "      <td>2</td>\n",
       "      <td>0.0</td>\n",
       "      <td>...</td>\n",
       "      <td>16</td>\n",
       "      <td>1</td>\n",
       "      <td>1</td>\n",
       "      <td>0</td>\n",
       "      <td>0</td>\n",
       "      <td>1</td>\n",
       "      <td>0</td>\n",
       "      <td>0</td>\n",
       "      <td>0</td>\n",
       "      <td>0</td>\n",
       "    </tr>\n",
       "  </tbody>\n",
       "</table>\n",
       "<p>5 rows × 30 columns</p>\n",
       "</div>"
      ],
      "text/plain": [
       "   Airline_AirAsia  Airline_AkasaAir  Airline_AllianceAir  Airline_GO FIRST  \\\n",
       "0                0                 0                    0                 0   \n",
       "1                0                 0                    0                 0   \n",
       "2                0                 0                    0                 1   \n",
       "3                0                 0                    0                 0   \n",
       "4                0                 0                    0                 0   \n",
       "\n",
       "   Airline_Indigo  Airline_SpiceJet  Airline_StarAir  Airline_Vistara  \\\n",
       "0               0                 1                0                0   \n",
       "1               1                 0                0                0   \n",
       "2               0                 0                0                0   \n",
       "3               0                 1                0                0   \n",
       "4               0                 0                0                0   \n",
       "\n",
       "   Arrival_encoded  Class  ...  Journey_date  Journey_day_encoded  \\\n",
       "0                2    0.0  ...            16                    1   \n",
       "1                4    0.0  ...            16                    1   \n",
       "2                4    0.0  ...            16                    1   \n",
       "3                2    0.0  ...            16                    1   \n",
       "4                2    0.0  ...            16                    1   \n",
       "\n",
       "   Journey_month  Source_Bangalore  Source_Chennai  Source_Delhi  \\\n",
       "0              1                 0               0             1   \n",
       "1              1                 0               0             1   \n",
       "2              1                 0               0             1   \n",
       "3              1                 0               0             1   \n",
       "4              1                 0               0             1   \n",
       "\n",
       "   Source_Hyderabad  Source_Kolkata  Source_Mumbai  Total_stops  \n",
       "0                 0               0              0            0  \n",
       "1                 0               0              0            0  \n",
       "2                 0               0              0            0  \n",
       "3                 0               0              0            0  \n",
       "4                 0               0              0            0  \n",
       "\n",
       "[5 rows x 30 columns]"
      ]
     },
     "execution_count": 29,
     "metadata": {},
     "output_type": "execute_result"
    }
   ],
   "source": [
    "data_frame = pd.read_csv(\"./../data/interim/pre_processed_dataset_2023.csv\")\n",
    "data_frame.head()"
   ]
  },
  {
   "cell_type": "code",
   "execution_count": 30,
   "metadata": {},
   "outputs": [
    {
     "name": "stdout",
     "output_type": "stream",
     "text": [
      "   Airline_AirAsia  Airline_AkasaAir  Airline_AllianceAir  Airline_GO FIRST  \\\n",
      "0                0                 0                    0                 0   \n",
      "1                0                 0                    0                 0   \n",
      "2                0                 0                    0                 1   \n",
      "3                0                 0                    0                 0   \n",
      "4                0                 0                    0                 0   \n",
      "\n",
      "   Airline_Indigo  Airline_SpiceJet  Airline_StarAir  Airline_Vistara  \\\n",
      "0               0                 1                0                0   \n",
      "1               1                 0                0                0   \n",
      "2               0                 0                0                0   \n",
      "3               0                 1                0                0   \n",
      "4               0                 0                0                0   \n",
      "\n",
      "   Arrival_encoded  Class  ...  Journey_date  Journey_day_encoded  \\\n",
      "0                2    0.0  ...            16                    1   \n",
      "1                4    0.0  ...            16                    1   \n",
      "2                4    0.0  ...            16                    1   \n",
      "3                2    0.0  ...            16                    1   \n",
      "4                2    0.0  ...            16                    1   \n",
      "\n",
      "   Journey_month  Source_Bangalore  Source_Chennai  Source_Delhi  \\\n",
      "0              1                 0               0             1   \n",
      "1              1                 0               0             1   \n",
      "2              1                 0               0             1   \n",
      "3              1                 0               0             1   \n",
      "4              1                 0               0             1   \n",
      "\n",
      "   Source_Hyderabad  Source_Kolkata  Source_Mumbai  Total_stops  \n",
      "0                 0               0              0            0  \n",
      "1                 0               0              0            0  \n",
      "2                 0               0              0            0  \n",
      "3                 0               0              0            0  \n",
      "4                 0               0              0            0  \n",
      "\n",
      "[5 rows x 29 columns]\n",
      "0    5335\n",
      "1    5899\n",
      "2    5801\n",
      "3    5794\n",
      "4    5955\n",
      "Name: Fare, dtype: int64\n"
     ]
    }
   ],
   "source": [
    "# Taking all columns except the target variable 'Fare'\n",
    "X = data_frame.drop('Fare', axis=1)\n",
    "print(X.head())\n",
    "\n",
    "# Target variable 'Fare'\n",
    "y = data_frame['Fare']\n",
    "print(y.head())"
   ]
  },
  {
   "cell_type": "code",
   "execution_count": 31,
   "metadata": {},
   "outputs": [],
   "source": [
    "# train-test split\n",
    "X_train, X_test, y_train, y_test = train_test_split(data_frame.drop('Fare', axis=1), data_frame['Fare'], test_size=0.2, random_state=42)"
   ]
  },
  {
   "cell_type": "code",
   "execution_count": 32,
   "metadata": {},
   "outputs": [],
   "source": [
    "# create the models\n",
    "rf = RandomForestRegressor()\n",
    "gb = GradientBoostingRegressor()\n",
    "lr = LinearRegression()"
   ]
  },
  {
   "cell_type": "code",
   "execution_count": 33,
   "metadata": {},
   "outputs": [
    {
     "name": "stdout",
     "output_type": "stream",
     "text": [
      "Mean Absolute Error (MAE): 3824.298\n",
      "Mean Squared Error (MSE): 35292208.117\n",
      "Root Mean Squared Error (RMSE): 5940.725\n",
      "R2_score: 0.914478\n",
      "Root Mean Squared Log Error (RMSLE): 8.69\n"
     ]
    }
   ],
   "source": [
    "# create the voting regressor\n",
    "voting_regressor = VotingRegressor([('rf', rf), ('gb', gb), ('lr', lr)])\n",
    "\n",
    "# fit the model\n",
    "voting_regressor.fit(X_train, y_train)\n",
    "\n",
    "# Using the pickle file to get the trained model\n",
    "# model = open('./../models/voting_regressor.pkl','rb')\n",
    "# voting_regressor = pickle.load(model)\n",
    "\n",
    "# predict the values\n",
    "y_pred = voting_regressor.predict(X_test)\n",
    "\n",
    "# Analyzing the performance of the model\n",
    "print('Mean Absolute Error (MAE):', round(metrics.mean_absolute_error(y_test, y_pred),3))  \n",
    "print('Mean Squared Error (MSE):', round(metrics.mean_squared_error(y_test, y_pred),3))  \n",
    "print('Root Mean Squared Error (RMSE):', round(np.sqrt(metrics.mean_squared_error(y_test, y_pred)),3))\n",
    "print('R2_score:', round(metrics.r2_score(y_test, y_pred),6))\n",
    "print('Root Mean Squared Log Error (RMSLE):', round(np.log(np.sqrt(metrics.mean_squared_error(y_test, y_pred))),3))"
   ]
  },
  {
   "cell_type": "code",
   "execution_count": 38,
   "metadata": {},
   "outputs": [],
   "source": [
    "# Saving the model to pickle file\n",
    "file = open('./../models/voting_regressor.pkl', 'wb')\n",
    "pickle.dump(voting_regressor, file)"
   ]
  },
  {
   "attachments": {},
   "cell_type": "markdown",
   "metadata": {},
   "source": [
    "> **Checking how the individual models perform**"
   ]
  },
  {
   "cell_type": "code",
   "execution_count": 34,
   "metadata": {},
   "outputs": [
    {
     "name": "stdout",
     "output_type": "stream",
     "text": [
      "RandomForest Regressor...\n",
      "Mean Absolute Error (MAE): 2133.587\n",
      "Mean Squared Error (MSE): 18896375.764\n",
      "Root Mean Squared Error (RMSE): 4346.996\n",
      "R2_score: 0.954209\n",
      "Root Mean Squared Log Error (RMSLE): 8.377\n"
     ]
    }
   ],
   "source": [
    "# Random Forest\n",
    "print(\"RandomForest Regressor...\")\n",
    "rf.fit(X_train, y_train)\n",
    "y_pred = rf.predict(X_test)\n",
    "print('Mean Absolute Error (MAE):', round(metrics.mean_absolute_error(y_test, y_pred),3))  \n",
    "print('Mean Squared Error (MSE):', round(metrics.mean_squared_error(y_test, y_pred),3))  \n",
    "print('Root Mean Squared Error (RMSE):', round(np.sqrt(metrics.mean_squared_error(y_test, y_pred)),3))\n",
    "print('R2_score:', round(metrics.r2_score(y_test, y_pred),6))\n",
    "print('Root Mean Squared Log Error (RMSLE):', round(np.log(np.sqrt(metrics.mean_squared_error(y_test, y_pred))),3))"
   ]
  },
  {
   "cell_type": "code",
   "execution_count": 35,
   "metadata": {},
   "outputs": [
    {
     "name": "stdout",
     "output_type": "stream",
     "text": [
      "Gradient Boosting...\n",
      "Mean Absolute Error (MAE): 4029.051\n",
      "Mean Squared Error (MSE): 42650374.964\n",
      "Root Mean Squared Error (RMSE): 6530.725\n",
      "R2_score: 0.896647\n",
      "Root Mean Squared Log Error (RMSLE): 8.784\n"
     ]
    }
   ],
   "source": [
    "# Gradient Boosting\n",
    "print(\"Gradient Boosting...\")\n",
    "gb.fit(X_train, y_train)\n",
    "y_pred = gb.predict(X_test)\n",
    "print('Mean Absolute Error (MAE):', round(metrics.mean_absolute_error(y_test, y_pred),3))  \n",
    "print('Mean Squared Error (MSE):', round(metrics.mean_squared_error(y_test, y_pred),3))  \n",
    "print('Root Mean Squared Error (RMSE):', round(np.sqrt(metrics.mean_squared_error(y_test, y_pred)),3))\n",
    "print('R2_score:', round(metrics.r2_score(y_test, y_pred),6))\n",
    "print('Root Mean Squared Log Error (RMSLE):', round(np.log(np.sqrt(metrics.mean_squared_error(y_test, y_pred))),3))"
   ]
  },
  {
   "cell_type": "code",
   "execution_count": 36,
   "metadata": {},
   "outputs": [
    {
     "name": "stdout",
     "output_type": "stream",
     "text": [
      "Linear Regression...\n",
      "Mean Absolute Error (MAE): 6807.192\n",
      "Mean Squared Error (MSE): 94958199.61\n",
      "Root Mean Squared Error (RMSE): 9744.65\n",
      "R2_score: 0.769891\n",
      "Root Mean Squared Log Error (RMSLE): 9.184\n"
     ]
    }
   ],
   "source": [
    "# Linear Regression\n",
    "print(\"Linear Regression...\")\n",
    "lr.fit(X_train, y_train)\n",
    "y_pred = lr.predict(X_test)\n",
    "print('Mean Absolute Error (MAE):', round(metrics.mean_absolute_error(y_test, y_pred),3))  \n",
    "print('Mean Squared Error (MSE):', round(metrics.mean_squared_error(y_test, y_pred),3))  \n",
    "print('Root Mean Squared Error (RMSE):', round(np.sqrt(metrics.mean_squared_error(y_test, y_pred)),3))\n",
    "print('R2_score:', round(metrics.r2_score(y_test, y_pred),6))\n",
    "print('Root Mean Squared Log Error (RMSLE):', round(np.log(np.sqrt(metrics.mean_squared_error(y_test, y_pred))),3))"
   ]
  },
  {
   "cell_type": "code",
   "execution_count": null,
   "metadata": {},
   "outputs": [],
   "source": []
  }
 ],
 "metadata": {
  "kernelspec": {
   "display_name": "mlenv",
   "language": "python",
   "name": "python3"
  },
  "language_info": {
   "codemirror_mode": {
    "name": "ipython",
    "version": 3
   },
   "file_extension": ".py",
   "mimetype": "text/x-python",
   "name": "python",
   "nbconvert_exporter": "python",
   "pygments_lexer": "ipython3",
   "version": "3.10.10"
  },
  "orig_nbformat": 4
 },
 "nbformat": 4,
 "nbformat_minor": 2
}
